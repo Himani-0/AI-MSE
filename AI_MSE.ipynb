{
  "nbformat": 4,
  "nbformat_minor": 0,
  "metadata": {
    "colab": {
      "provenance": []
    },
    "kernelspec": {
      "name": "python3",
      "display_name": "Python 3"
    },
    "language_info": {
      "name": "python"
    }
  },
  "cells": [
    {
      "cell_type": "code",
      "execution_count": 4,
      "metadata": {
        "id": "r5ZhBWGduTzP",
        "colab": {
          "base_uri": "https://localhost:8080/",
          "height": 636
        },
        "outputId": "88fa102d-5d68-4473-dc92-134d0a1826af"
      },
      "outputs": [
        {
          "output_type": "stream",
          "name": "stdout",
          "text": [
            "Drive already mounted at /content/drive; to attempt to forcibly remount, call drive.mount(\"/content/drive\", force_remount=True).\n",
            "Dataset Head:\n",
            "   vitamin_a  vitamin_c     fiber   type\n",
            "0  70.783510  35.779827  8.313735   root\n",
            "1  54.353822  49.421245  5.989785  fruit\n",
            "2   8.172535  82.824925  1.149330  fruit\n",
            "3  45.830064  33.520805  0.938573  leafy\n",
            "4  48.469629  17.376159  9.096268   root\n",
            "\n",
            "Evaluation Metrics:\n",
            "Accuracy: 0.27\n",
            "Precision: 0.25\n",
            "Recall: 0.28\n"
          ]
        },
        {
          "output_type": "display_data",
          "data": {
            "text/plain": [
              "<Figure size 600x400 with 2 Axes>"
            ],
            "image/png": "[encoded data removed]"
          },
          "metadata": {}
        }
      ],
      "source": [
        "\n",
        "# 2. Import libraries\n",
        "#\n",
        "import pandas as pd\n",
        "import seaborn as sns\n",
        "import matplotlib.pyplot as plt\n",
        "from sklearn.model_selection import train_test_split\n",
        "from sklearn.preprocessing import LabelEncoder, StandardScaler\n",
        "from sklearn.ensemble import RandomForestClassifier\n",
        "from sklearn.metrics import confusion_matrix, accuracy_score, precision_score, recall_score\n",
        "\n",
        "# 3. Mount Google Drive\n",
        "from google.colab import drive\n",
        "drive.mount('/content/drive')\n",
        "\n",
        "# 4. Load the dataset from Drive\n",
        "# 👉 Make sure your 'vegetables.csv' file is placed in \"My Drive/Colab Notebooks\"\n",
        "file_path = '/content/drive/MyDrive/Colab Notebooks/vegetables.csv'\n",
        "df = pd.read_csv(file_path)\n",
        "\n",
        "# 5. Preview the dataset\n",
        "print(\"Dataset Head:\")\n",
        "print(df.head())\n",
        "\n",
        "# 6. Preprocess the data\n",
        "# Drop non-numeric and non-feature columns like 'Name' (if present)\n",
        "# Drop the target column from features\n",
        "X = df.drop(columns=['type'], errors='ignore')\n",
        "\n",
        "# Set the target column\n",
        "y = df['type']\n",
        "\n",
        "# Encode the target labels\n",
        "label_encoder = LabelEncoder()\n",
        "y_encoded = label_encoder.fit_transform(y)\n",
        "\n",
        "\n",
        "# Encode the target labels\n",
        "label_encoder = LabelEncoder()\n",
        "y_encoded = label_encoder.fit_transform(y)\n",
        "\n",
        "# Scale the features\n",
        "scaler = StandardScaler()\n",
        "X_scaled = scaler.fit_transform(X)\n",
        "\n",
        "# 7. Train-test split\n",
        "X_train, X_test, y_train, y_test = train_test_split(X_scaled, y_encoded, test_size=0.3, random_state=42)\n",
        "\n",
        "# 8. Train the model\n",
        "model = RandomForestClassifier(random_state=42)\n",
        "model.fit(X_train, y_train)\n",
        "\n",
        "# 9. Make predictions\n",
        "y_pred = model.predict(X_test)\n",
        "\n",
        "# 10. Evaluate the model\n",
        "accuracy = accuracy_score(y_test, y_pred)\n",
        "precision = precision_score(y_test, y_pred, average='macro')\n",
        "recall = recall_score(y_test, y_pred, average='macro')\n",
        "\n",
        "print(f\"\\nEvaluation Metrics:\")\n",
        "print(f\"Accuracy: {accuracy:.2f}\")\n",
        "print(f\"Precision: {precision:.2f}\")\n",
        "print(f\"Recall: {recall:.2f}\")\n",
        "\n",
        "# 11. Plot confusion matrix\n",
        "cm = confusion_matrix(y_test, y_pred)\n",
        "plt.figure(figsize=(6, 4))\n",
        "sns.heatmap(cm, annot=True, fmt='d',\n",
        "            xticklabels=label_encoder.classes_,\n",
        "            yticklabels=label_encoder.classes_,\n",
        "            cmap='coolwarm')\n",
        "plt.xlabel('Predicted')\n",
        "plt.ylabel('Actual')\n",
        "plt.title('Confusion Matrix Heatmap')\n",
        "plt.show()\n"
      ]
    }
  ]
}